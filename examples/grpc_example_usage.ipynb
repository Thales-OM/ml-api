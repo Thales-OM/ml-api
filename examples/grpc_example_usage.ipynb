{
 "cells": [
  {
   "cell_type": "markdown",
   "metadata": {},
   "source": [
    "- To start server run: `python app.py` \n",
    "- To start server + Prometheus + Grafana run: `docker-compose up --build`"
   ]
  },
  {
   "cell_type": "code",
   "execution_count": 1,
   "metadata": {},
   "outputs": [],
   "source": [
    "import sys\n",
    "import os\n",
    "\n",
    "# Get the absolute path of the app root\n",
    "app_root = os.path.abspath(os.path.join(os.getcwd(), '..'))\n",
    "\n",
    "# Add the neighbor directory to sys.path\n",
    "sys.path.append(app_root)"
   ]
  },
  {
   "cell_type": "code",
   "execution_count": 2,
   "metadata": {},
   "outputs": [],
   "source": [
    "# Necessary imports for gRPC\n",
    "import grpc\n",
    "from grpc_protobuf.model_manager_grpc_pb2_grpc import ModelManagerGRPCStub\n",
    "from grpc_protobuf.model_manager_grpc_pb2 import FloatList, FitRequest, PredictRequest, SeedRequest, SelectExperimentRequest, PredictResponse, BasicExperimentResponse, BasicSuccessResponse, ExperimentMetadataResponse, ListExperimentsResponse\n",
    "from google.protobuf.empty_pb2 import Empty"
   ]
  },
  {
   "cell_type": "code",
   "execution_count": 3,
   "metadata": {},
   "outputs": [],
   "source": [
    "\n",
    "# Create a gRPC channel and stub\n",
    "HOST_GRPC = 'localhost'\n",
    "PORT_GRPC = 50051  # Change this to your server's port\n",
    "channel = grpc.insecure_channel(f'{HOST_GRPC}:{PORT_GRPC}')\n",
    "stub = ModelManagerGRPCStub(channel)\n"
   ]
  },
  {
   "cell_type": "code",
   "execution_count": 4,
   "metadata": {},
   "outputs": [],
   "source": [
    "# Example request to list experiments\n",
    "def list_experiments():\n",
    "    request = Empty()\n",
    "    response = stub.ListExperiments(request)\n",
    "    return response\n"
   ]
  },
  {
   "cell_type": "code",
   "execution_count": 5,
   "metadata": {},
   "outputs": [],
   "source": [
    "def select_experiment(experiment_id):\n",
    "    experiment_id = str(experiment_id)\n",
    "    request = SelectExperimentRequest(experiment_id=experiment_id)\n",
    "    response = stub.SelectExperiment(request)\n",
    "    return response"
   ]
  },
  {
   "cell_type": "code",
   "execution_count": 6,
   "metadata": {},
   "outputs": [],
   "source": [
    "# Example request to fit\n",
    "def fit(X_train, y_train):\n",
    "    X_train = [FloatList(values=sample) for sample in X_train]\n",
    "    request = FitRequest(X_train=X_train, y_train=y_train)\n",
    "    response = stub.Fit(request)\n",
    "    return response"
   ]
  },
  {
   "cell_type": "code",
   "execution_count": 7,
   "metadata": {},
   "outputs": [],
   "source": [
    "# Example request to predict\n",
    "def predict(X_test):\n",
    "    X_test = [FloatList(values=sample) for sample in X_test]\n",
    "    request = PredictRequest(X_test=X_test)\n",
    "    response = stub.Predict(request)\n",
    "    return response\n"
   ]
  },
  {
   "cell_type": "code",
   "execution_count": 8,
   "metadata": {},
   "outputs": [],
   "source": [
    "# Example request to seed\n",
    "def seed(value):\n",
    "    request = SeedRequest(value=value)\n",
    "    response = stub.Seed(request)\n",
    "    return response"
   ]
  },
  {
   "cell_type": "code",
   "execution_count": 9,
   "metadata": {},
   "outputs": [
    {
     "ename": "_InactiveRpcError",
     "evalue": "<_InactiveRpcError of RPC that terminated with:\n\tstatus = StatusCode.UNAVAILABLE\n\tdetails = \"failed to connect to all addresses; last error: UNKNOWN: ipv4:127.0.0.1:50051: Failed to connect to remote host: connect: Connection refused (61)\"\n\tdebug_error_string = \"UNKNOWN:Error received from peer  {created_time:\"2024-11-12T03:20:51.912247+03:00\", grpc_status:14, grpc_message:\"failed to connect to all addresses; last error: UNKNOWN: ipv4:127.0.0.1:50051: Failed to connect to remote host: connect: Connection refused (61)\"}\"\n>",
     "output_type": "error",
     "traceback": [
      "\u001b[0;31m---------------------------------------------------------------------------\u001b[0m",
      "\u001b[0;31m_InactiveRpcError\u001b[0m                         Traceback (most recent call last)",
      "Cell \u001b[0;32mIn[9], line 1\u001b[0m\n\u001b[0;32m----> 1\u001b[0m msg \u001b[38;5;241m=\u001b[39m \u001b[43mseed\u001b[49m\u001b[43m(\u001b[49m\u001b[38;5;241;43m42\u001b[39;49m\u001b[43m)\u001b[49m\n\u001b[1;32m      2\u001b[0m \u001b[38;5;28mprint\u001b[39m(msg)\n",
      "Cell \u001b[0;32mIn[8], line 4\u001b[0m, in \u001b[0;36mseed\u001b[0;34m(value)\u001b[0m\n\u001b[1;32m      2\u001b[0m \u001b[38;5;28;01mdef\u001b[39;00m \u001b[38;5;21mseed\u001b[39m(value):\n\u001b[1;32m      3\u001b[0m     request \u001b[38;5;241m=\u001b[39m SeedRequest(value\u001b[38;5;241m=\u001b[39mvalue)\n\u001b[0;32m----> 4\u001b[0m     response \u001b[38;5;241m=\u001b[39m \u001b[43mstub\u001b[49m\u001b[38;5;241;43m.\u001b[39;49m\u001b[43mSeed\u001b[49m\u001b[43m(\u001b[49m\u001b[43mrequest\u001b[49m\u001b[43m)\u001b[49m\n\u001b[1;32m      5\u001b[0m     \u001b[38;5;28;01mreturn\u001b[39;00m response\n",
      "File \u001b[0;32m~/Projects/ml-api/.venv/lib/python3.12/site-packages/grpc/_channel.py:1181\u001b[0m, in \u001b[0;36m_UnaryUnaryMultiCallable.__call__\u001b[0;34m(self, request, timeout, metadata, credentials, wait_for_ready, compression)\u001b[0m\n\u001b[1;32m   1166\u001b[0m \u001b[38;5;28;01mdef\u001b[39;00m \u001b[38;5;21m__call__\u001b[39m(\n\u001b[1;32m   1167\u001b[0m     \u001b[38;5;28mself\u001b[39m,\n\u001b[1;32m   1168\u001b[0m     request: Any,\n\u001b[0;32m   (...)\u001b[0m\n\u001b[1;32m   1173\u001b[0m     compression: Optional[grpc\u001b[38;5;241m.\u001b[39mCompression] \u001b[38;5;241m=\u001b[39m \u001b[38;5;28;01mNone\u001b[39;00m,\n\u001b[1;32m   1174\u001b[0m ) \u001b[38;5;241m-\u001b[39m\u001b[38;5;241m>\u001b[39m Any:\n\u001b[1;32m   1175\u001b[0m     (\n\u001b[1;32m   1176\u001b[0m         state,\n\u001b[1;32m   1177\u001b[0m         call,\n\u001b[1;32m   1178\u001b[0m     ) \u001b[38;5;241m=\u001b[39m \u001b[38;5;28mself\u001b[39m\u001b[38;5;241m.\u001b[39m_blocking(\n\u001b[1;32m   1179\u001b[0m         request, timeout, metadata, credentials, wait_for_ready, compression\n\u001b[1;32m   1180\u001b[0m     )\n\u001b[0;32m-> 1181\u001b[0m     \u001b[38;5;28;01mreturn\u001b[39;00m \u001b[43m_end_unary_response_blocking\u001b[49m\u001b[43m(\u001b[49m\u001b[43mstate\u001b[49m\u001b[43m,\u001b[49m\u001b[43m \u001b[49m\u001b[43mcall\u001b[49m\u001b[43m,\u001b[49m\u001b[43m \u001b[49m\u001b[38;5;28;43;01mFalse\u001b[39;49;00m\u001b[43m,\u001b[49m\u001b[43m \u001b[49m\u001b[38;5;28;43;01mNone\u001b[39;49;00m\u001b[43m)\u001b[49m\n",
      "File \u001b[0;32m~/Projects/ml-api/.venv/lib/python3.12/site-packages/grpc/_channel.py:1006\u001b[0m, in \u001b[0;36m_end_unary_response_blocking\u001b[0;34m(state, call, with_call, deadline)\u001b[0m\n\u001b[1;32m   1004\u001b[0m         \u001b[38;5;28;01mreturn\u001b[39;00m state\u001b[38;5;241m.\u001b[39mresponse\n\u001b[1;32m   1005\u001b[0m \u001b[38;5;28;01melse\u001b[39;00m:\n\u001b[0;32m-> 1006\u001b[0m     \u001b[38;5;28;01mraise\u001b[39;00m _InactiveRpcError(state)\n",
      "\u001b[0;31m_InactiveRpcError\u001b[0m: <_InactiveRpcError of RPC that terminated with:\n\tstatus = StatusCode.UNAVAILABLE\n\tdetails = \"failed to connect to all addresses; last error: UNKNOWN: ipv4:127.0.0.1:50051: Failed to connect to remote host: connect: Connection refused (61)\"\n\tdebug_error_string = \"UNKNOWN:Error received from peer  {created_time:\"2024-11-12T03:20:51.912247+03:00\", grpc_status:14, grpc_message:\"failed to connect to all addresses; last error: UNKNOWN: ipv4:127.0.0.1:50051: Failed to connect to remote host: connect: Connection refused (61)\"}\"\n>"
     ]
    }
   ],
   "source": [
    "msg = seed(42)\n",
    "print(msg)"
   ]
  },
  {
   "cell_type": "code",
   "execution_count": 10,
   "metadata": {},
   "outputs": [
    {
     "name": "stdout",
     "output_type": "stream",
     "text": [
      "Experiments: experiments {\n",
      "  experiment_id: \"9cfbb98a-2d85-4a71-8d90-c1b308d739b9\"\n",
      "  created_dttm: \"2024-11-06T13:38:57.734007\"\n",
      "  last_changed_dttm: \"2024-11-06T13:38:57.734007\"\n",
      "  model_filename: \"model.skl\"\n",
      "  name: \"Template untrained DecisionTreeClassifier Scikit-Learn model\"\n",
      "  template_flg: true\n",
      "}\n",
      "experiments {\n",
      "  experiment_id: \"3a71e9aa-40cd-4ea6-a41b-0476ded16a4c\"\n",
      "  created_dttm: \"2024-11-06T13:38:57.732099\"\n",
      "  last_changed_dttm: \"2024-11-06T13:38:57.732099\"\n",
      "  model_filename: \"model.pt\"\n",
      "  name: \"Template untrained MLP PyTorch model\"\n",
      "  template_flg: true\n",
      "}\n",
      "experiments {\n",
      "  experiment_id: \"c2d945f2-946e-4112-8d68-077b52d02528\"\n",
      "  created_dttm: \"2024-11-06T13:38:57.733386\"\n",
      "  last_changed_dttm: \"2024-11-06T13:38:57.733386\"\n",
      "  model_filename: \"model.skl\"\n",
      "  name: \"Template untrained LinearRegression Scikit-Learn model\"\n",
      "  template_flg: true\n",
      "}\n",
      "\n"
     ]
    }
   ],
   "source": [
    "# Call the functions and print the results\n",
    "experiments = list_experiments()\n",
    "print(\"Experiments:\", experiments)"
   ]
  },
  {
   "cell_type": "code",
   "execution_count": 11,
   "metadata": {},
   "outputs": [
    {
     "name": "stdout",
     "output_type": "stream",
     "text": [
      "success: true\n",
      "\n"
     ]
    }
   ],
   "source": [
    "response = select_experiment(experiment_id='c2d945f2-946e-4112-8d68-077b52d02528')\n",
    "print(response)"
   ]
  },
  {
   "cell_type": "code",
   "execution_count": 12,
   "metadata": {},
   "outputs": [
    {
     "name": "stdout",
     "output_type": "stream",
     "text": [
      "Sample Data X:\n",
      "[3.745401188473625, 9.50714306409916, 7.319939418114051, 5.986584841970366, 1.5601864044243652] ,\n",
      "[1.5599452033620265, 0.5808361216819946, 8.661761457749352, 6.011150117432088, 7.080725777960454] ,\n",
      "[0.20584494295802447, 9.699098521619943, 8.324426408004218, 2.1233911067827616, 1.8182496720710062] ,\n",
      "[1.8340450985343382, 3.0424224295953772, 5.247564316322379, 4.319450186421157, 2.9122914019804194] ,\n",
      "[6.118528947223795, 1.3949386065204183, 2.9214464853521815, 3.663618432936917, 4.56069984217036] ,\n",
      "[7.851759613930136, 1.9967378215835974, 5.142344384136116, 5.924145688620425, 0.46450412719997725] ,\n",
      "[6.075448519014383, 1.7052412368729153, 0.6505159298527952, 9.488855372533333, 9.656320330745594] ,\n",
      "[8.08397348116461, 3.0461376917337066, 0.9767211400638387, 6.842330265121569, 4.4015249373960135] ,\n",
      "[1.2203823484477883, 4.951769101112702, 0.34388521115218396, 9.093204020787821, 2.587799816000169] ,\n",
      "[6.62522284353982, 3.1171107608941098, 5.200680211778108, 5.4671027934327965, 1.8485445552552704] ,\n",
      "[9.695846277645586, 7.7513282336111455, 9.394989415641891, 8.948273504276488, 5.978999788110851] ,\n",
      "[9.218742350231167, 0.884925020519195, 1.959828624191452, 0.45227288910538066, 3.2533033076326436] ,\n",
      "[3.8867728968948203, 2.713490317738959, 8.287375091519294, 3.567533266935893, 2.8093450968738076] ,\n",
      "[5.426960831582485, 1.4092422497476265, 8.021969807540398, 0.7455064367977082, 9.868869366005173] ,\n",
      "[7.722447692966574, 1.987156815341724, 0.05522117123602399, 8.154614284548341, 7.068573438476172] ,\n",
      "[7.2900716804098735, 7.712703466859457, 0.7404465173409036, 3.5846572854427263, 1.1586905952512971] ,\n",
      "[8.631034258755935, 6.232981268275579, 3.308980248526492, 0.6355835028602363, 3.109823217156622] ,\n",
      "[3.2518332202674705, 7.29606178338064, 6.3755747135521315, 8.872127425763265, 4.722149251619493] ,\n",
      "[1.195942459383017, 7.13244787222995, 7.607850486168974, 5.612771975694963, 7.70967179954561] ,\n",
      "[4.937955963643907, 5.227328293819941, 4.275410183585496, 0.2541912674409519, 1.0789142699330445] ,\n",
      "\n",
      "Sample Data y:\n",
      "129.76359293151816 ,\n",
      "125.75373193410954 ,\n",
      "115.4706114187128 ,\n",
      "86.57690016412752 ,\n",
      "80.79559101565364 ,\n",
      "66.25774223866334 ,\n",
      "152.20324411830487 ,\n",
      "101.90008341744776 ,\n",
      "103.9666450148319 ,\n",
      "84.16388630317944 ,\n",
      "184.05485266455278 ,\n",
      "47.69153987992095 ,\n",
      "88.8731895189879 ,\n",
      "130.9228583468655 ,\n",
      "121.61451709906183 ,\n",
      "83.0818739194253 ,\n",
      "86.51182078202241 ,\n",
      "156.1826524985762 ,\n",
      "166.54338253285354 ,\n",
      "60.689352895307934 ,\n"
     ]
    }
   ],
   "source": [
    "import numpy as np\n",
    "\n",
    "# Set a random seed for reproducibility\n",
    "np.random.seed(42)\n",
    "\n",
    "# Generate sample data\n",
    "# Number of samples\n",
    "n_samples = 20\n",
    "n_features = 5\n",
    "\n",
    "# Independent variable (X)\n",
    "X_train = [np.random.uniform(0, 10, size=n_features).tolist() for obs in range(n_samples)]\n",
    "\n",
    "# True parameters\n",
    "slopes = np.random.uniform(0, 10, size=n_features).tolist()\n",
    "intercept = 1.0\n",
    "\n",
    "# Generate dependent variable (Y) with some noise\n",
    "noise = np.random.normal(0, 1, n_samples).tolist()  # Gaussian noise\n",
    "y_train = [(sum(np.array(slopes) * np.array(sample)) + intercept + err) for sample, err in zip(X_train, noise)]\n",
    "\n",
    "# Display the samples\n",
    "print(\"Sample Data X:\")\n",
    "for observation in X_train:\n",
    "    print(list(observation), ',')\n",
    "print()\n",
    "print(\"Sample Data y:\")\n",
    "for observation in y_train:\n",
    "    print(observation, ',')\n",
    "\n"
   ]
  },
  {
   "cell_type": "code",
   "execution_count": 13,
   "metadata": {},
   "outputs": [
    {
     "name": "stdout",
     "output_type": "stream",
     "text": [
      "success: true\n",
      "\n"
     ]
    }
   ],
   "source": [
    "response = fit(X_train, y_train)\n",
    "print(response)"
   ]
  },
  {
   "cell_type": "code",
   "execution_count": 14,
   "metadata": {},
   "outputs": [
    {
     "name": "stdout",
     "output_type": "stream",
     "text": [
      "Test Data X:\n",
      "[2.2210781047073027, 1.198653673336828, 3.3761517140362796, 9.429097039125192, 3.2320293202075523] ,\n",
      "[5.187906217433661, 7.030189588951778, 3.63629602379294, 9.717820827209607, 9.624472949421111] ,\n",
      "[2.5178229582536416, 4.972485058923855, 3.0087830981676964, 2.848404943774676, 0.36886947354532795] ,\n",
      "[6.095643339798968, 5.026790232288615, 0.5147875124998935, 2.7864646423661146, 9.082658859666537] ,\n",
      "[2.395618906669724, 1.448948720912231, 4.89452760277563, 9.856504541106007, 2.4205527151150044] ,\n",
      "[6.721355474058786, 7.616196153287175, 2.3763754399239967, 7.282163486118596, 3.677831327192532] ,\n",
      "[6.3230583059357945, 6.335297107608947, 5.357746840747585, 0.902897700544083, 8.35302495589238] ,\n",
      "[3.2078006497173583, 1.8651851039985423, 0.40775141554763916, 5.908929431882418, 6.775643618422825] ,\n",
      "[0.16587828927856152, 5.12093058299281, 2.2649577519793795, 6.451727904094499, 1.7436642900499144] ,\n",
      "[6.90937738102466, 3.867353463005374, 9.367299887367345, 1.3752094414599325, 3.410663510502585] ,\n"
     ]
    }
   ],
   "source": [
    "import numpy as np\n",
    "\n",
    "# Generate test data\n",
    "# Number of samples\n",
    "n_samples_test = 10\n",
    "\n",
    "# Independent variable (X)\n",
    "X_test = [np.random.uniform(0, 10, size=n_features).tolist() for obs in range(n_samples_test)]\n",
    "# Display the samples\n",
    "print(\"Test Data X:\")\n",
    "for observation in X_test:\n",
    "    print(list(observation), ',')"
   ]
  },
  {
   "cell_type": "code",
   "execution_count": 15,
   "metadata": {},
   "outputs": [
    {
     "name": "stdout",
     "output_type": "stream",
     "text": [
      "predictions: 96.7044296\n",
      "predictions: 195.462402\n",
      "predictions: 60.3536\n",
      "predictions: 133.289963\n",
      "predictions: 97.9369278\n",
      "predictions: 129.776276\n",
      "predictions: 140.641785\n",
      "predictions: 106.387421\n",
      "predictions: 88.5956039\n",
      "predictions: 95.3442841\n",
      "\n"
     ]
    }
   ],
   "source": [
    "response = predict(X_test)\n",
    "print(response)"
   ]
  }
 ],
 "metadata": {
  "kernelspec": {
   "display_name": ".venv",
   "language": "python",
   "name": "python3"
  },
  "language_info": {
   "codemirror_mode": {
    "name": "ipython",
    "version": 3
   },
   "file_extension": ".py",
   "mimetype": "text/x-python",
   "name": "python",
   "nbconvert_exporter": "python",
   "pygments_lexer": "ipython3",
   "version": "3.12.6"
  }
 },
 "nbformat": 4,
 "nbformat_minor": 2
}
