{
 "cells": [
  {
   "cell_type": "markdown",
   "metadata": {},
   "source": [
    "- To start server run: `python app.py` \n",
    "- To start server + Prometheus + Grafana run: `docker-compose up --build`"
   ]
  },
  {
   "cell_type": "code",
   "execution_count": 1,
   "metadata": {},
   "outputs": [],
   "source": [
    "import requests\n",
    "import json"
   ]
  },
  {
   "cell_type": "code",
   "execution_count": 2,
   "metadata": {},
   "outputs": [
    {
     "name": "stdout",
     "output_type": "stream",
     "text": [
      "[\n",
      "    {\n",
      "        \"created_dttm\": \"2024-11-06T13:38:57.732099\",\n",
      "        \"experiment_id\": \"3a71e9aa-40cd-4ea6-a41b-0476ded16a4c\",\n",
      "        \"last_changed_dttm\": \"2024-11-06T13:38:57.732099\",\n",
      "        \"model_filename\": \"model.pt\",\n",
      "        \"name\": \"Template untrained MLP PyTorch model\",\n",
      "        \"origin_experiment_id\": null,\n",
      "        \"parent_experiment_id\": null,\n",
      "        \"template_flg\": true\n",
      "    },\n",
      "    {\n",
      "        \"created_dttm\": \"2024-11-06T13:38:57.734007\",\n",
      "        \"experiment_id\": \"9cfbb98a-2d85-4a71-8d90-c1b308d739b9\",\n",
      "        \"last_changed_dttm\": \"2024-11-06T13:38:57.734007\",\n",
      "        \"model_filename\": \"model.skl\",\n",
      "        \"name\": \"Template untrained DecisionTreeClassifier Scikit-Learn model\",\n",
      "        \"origin_experiment_id\": null,\n",
      "        \"parent_experiment_id\": null,\n",
      "        \"template_flg\": true\n",
      "    },\n",
      "    {\n",
      "        \"created_dttm\": \"2024-11-06T13:38:57.733386\",\n",
      "        \"experiment_id\": \"c2d945f2-946e-4112-8d68-077b52d02528\",\n",
      "        \"last_changed_dttm\": \"2024-11-06T13:38:57.733386\",\n",
      "        \"model_filename\": \"model.skl\",\n",
      "        \"name\": \"Template untrained LinearRegression Scikit-Learn model\",\n",
      "        \"origin_experiment_id\": null,\n",
      "        \"parent_experiment_id\": null,\n",
      "        \"template_flg\": true\n",
      "    }\n",
      "]\n"
     ]
    }
   ],
   "source": [
    "response = requests.get(url='http://localhost:8000/experiments/list')\n",
    "print(json.dumps(\n",
    "    response.json(),\n",
    "    sort_keys=True,\n",
    "    indent=4,\n",
    "    separators=(',', ': ')\n",
    "))"
   ]
  },
  {
   "cell_type": "code",
   "execution_count": 3,
   "metadata": {},
   "outputs": [
    {
     "name": "stdout",
     "output_type": "stream",
     "text": [
      "{'success': True}\n"
     ]
    }
   ],
   "source": [
    "experiment_id_to_select = \"c2d945f2-946e-4112-8d68-077b52d02528\"\n",
    "response = requests.post(url=f'http://localhost:8000/experiments/{experiment_id_to_select}/select')\n",
    "print(response.json())"
   ]
  },
  {
   "cell_type": "code",
   "execution_count": 4,
   "metadata": {},
   "outputs": [
    {
     "name": "stdout",
     "output_type": "stream",
     "text": [
      "{'success': True}\n"
     ]
    }
   ],
   "source": [
    "response = requests.post(url='http://localhost:8000/seed', params={'value': 42})\n",
    "print(response.json())"
   ]
  },
  {
   "cell_type": "code",
   "execution_count": 5,
   "metadata": {},
   "outputs": [
    {
     "name": "stdout",
     "output_type": "stream",
     "text": [
      "[\n",
      "    {\n",
      "        \"experiment_id\": \"c2d945f2-946e-4112-8d68-077b52d02528\",\n",
      "        \"status\": \"Ready\"\n",
      "    }\n",
      "]\n"
     ]
    }
   ],
   "source": [
    "response = requests.get(url='http://localhost:8000/experiments/active/status')\n",
    "print(json.dumps(\n",
    "    response.json(),\n",
    "    sort_keys=True,\n",
    "    indent=4,\n",
    "    separators=(',', ': ')\n",
    "))"
   ]
  },
  {
   "cell_type": "code",
   "execution_count": 6,
   "metadata": {},
   "outputs": [
    {
     "name": "stdout",
     "output_type": "stream",
     "text": [
      "Sample Data X:\n",
      "[3.745401188473625, 9.50714306409916, 7.319939418114051, 5.986584841970366, 1.5601864044243652] ,\n",
      "[1.5599452033620265, 0.5808361216819946, 8.661761457749352, 6.011150117432088, 7.080725777960454] ,\n",
      "[0.20584494295802447, 9.699098521619943, 8.324426408004218, 2.1233911067827616, 1.8182496720710062] ,\n",
      "[1.8340450985343382, 3.0424224295953772, 5.247564316322379, 4.319450186421157, 2.9122914019804194] ,\n",
      "[6.118528947223795, 1.3949386065204183, 2.9214464853521815, 3.663618432936917, 4.56069984217036] ,\n",
      "[7.851759613930136, 1.9967378215835974, 5.142344384136116, 5.924145688620425, 0.46450412719997725] ,\n",
      "[6.075448519014383, 1.7052412368729153, 0.6505159298527952, 9.488855372533333, 9.656320330745594] ,\n",
      "[8.08397348116461, 3.0461376917337066, 0.9767211400638387, 6.842330265121569, 4.4015249373960135] ,\n",
      "[1.2203823484477883, 4.951769101112702, 0.34388521115218396, 9.093204020787821, 2.587799816000169] ,\n",
      "[6.62522284353982, 3.1171107608941098, 5.200680211778108, 5.4671027934327965, 1.8485445552552704] ,\n",
      "[9.695846277645586, 7.7513282336111455, 9.394989415641891, 8.948273504276488, 5.978999788110851] ,\n",
      "[9.218742350231167, 0.884925020519195, 1.959828624191452, 0.45227288910538066, 3.2533033076326436] ,\n",
      "[3.8867728968948203, 2.713490317738959, 8.287375091519294, 3.567533266935893, 2.8093450968738076] ,\n",
      "[5.426960831582485, 1.4092422497476265, 8.021969807540398, 0.7455064367977082, 9.868869366005173] ,\n",
      "[7.722447692966574, 1.987156815341724, 0.05522117123602399, 8.154614284548341, 7.068573438476172] ,\n",
      "[7.2900716804098735, 7.712703466859457, 0.7404465173409036, 3.5846572854427263, 1.1586905952512971] ,\n",
      "[8.631034258755935, 6.232981268275579, 3.308980248526492, 0.6355835028602363, 3.109823217156622] ,\n",
      "[3.2518332202674705, 7.29606178338064, 6.3755747135521315, 8.872127425763265, 4.722149251619493] ,\n",
      "[1.195942459383017, 7.13244787222995, 7.607850486168974, 5.612771975694963, 7.70967179954561] ,\n",
      "[4.937955963643907, 5.227328293819941, 4.275410183585496, 0.2541912674409519, 1.0789142699330445] ,\n",
      "\n",
      "Sample Data y:\n",
      "129.76359293151816 ,\n",
      "125.75373193410954 ,\n",
      "115.4706114187128 ,\n",
      "86.57690016412752 ,\n",
      "80.79559101565364 ,\n",
      "66.25774223866334 ,\n",
      "152.20324411830487 ,\n",
      "101.90008341744776 ,\n",
      "103.9666450148319 ,\n",
      "84.16388630317944 ,\n",
      "184.05485266455278 ,\n",
      "47.69153987992095 ,\n",
      "88.8731895189879 ,\n",
      "130.9228583468655 ,\n",
      "121.61451709906183 ,\n",
      "83.0818739194253 ,\n",
      "86.51182078202241 ,\n",
      "156.1826524985762 ,\n",
      "166.54338253285354 ,\n",
      "60.689352895307934 ,\n"
     ]
    }
   ],
   "source": [
    "import numpy as np\n",
    "\n",
    "# Set a random seed for reproducibility\n",
    "np.random.seed(42)\n",
    "\n",
    "# Generate sample data\n",
    "# Number of samples\n",
    "n_samples = 20\n",
    "n_features = 5\n",
    "\n",
    "# Independent variable (X)\n",
    "X_train = [np.random.uniform(0, 10, size=n_features).tolist() for obs in range(n_samples)]\n",
    "\n",
    "# True parameters\n",
    "slopes = np.random.uniform(0, 10, size=n_features).tolist()\n",
    "intercept = 1.0\n",
    "\n",
    "# Generate dependent variable (Y) with some noise\n",
    "noise = np.random.normal(0, 1, n_samples).tolist()  # Gaussian noise\n",
    "y_train = [(sum(np.array(slopes) * np.array(sample)) + intercept + err) for sample, err in zip(X_train, noise)]\n",
    "\n",
    "# Display the samples\n",
    "print(\"Sample Data X:\")\n",
    "for observation in X_train:\n",
    "    print(list(observation), ',')\n",
    "print()\n",
    "print(\"Sample Data y:\")\n",
    "for observation in y_train:\n",
    "    print(observation, ',')"
   ]
  },
  {
   "cell_type": "code",
   "execution_count": 7,
   "metadata": {},
   "outputs": [
    {
     "name": "stdout",
     "output_type": "stream",
     "text": [
      "{'success': True}\n"
     ]
    }
   ],
   "source": [
    "response = requests.post(url='http://localhost:8000/fit', json={\"X_train\": X_train, \"y_train\": y_train, \"params\": {\"fit_intercept\": True}})\n",
    "print(response.json())"
   ]
  },
  {
   "cell_type": "code",
   "execution_count": 8,
   "metadata": {},
   "outputs": [
    {
     "name": "stdout",
     "output_type": "stream",
     "text": [
      "Test Data X:\n",
      "[2.2210781047073027, 1.198653673336828, 3.3761517140362796, 9.429097039125192, 3.2320293202075523] ,\n",
      "[5.187906217433661, 7.030189588951778, 3.63629602379294, 9.717820827209607, 9.624472949421111] ,\n",
      "[2.5178229582536416, 4.972485058923855, 3.0087830981676964, 2.848404943774676, 0.36886947354532795] ,\n",
      "[6.095643339798968, 5.026790232288615, 0.5147875124998935, 2.7864646423661146, 9.082658859666537] ,\n",
      "[2.395618906669724, 1.448948720912231, 4.89452760277563, 9.856504541106007, 2.4205527151150044] ,\n",
      "[6.721355474058786, 7.616196153287175, 2.3763754399239967, 7.282163486118596, 3.677831327192532] ,\n",
      "[6.3230583059357945, 6.335297107608947, 5.357746840747585, 0.902897700544083, 8.35302495589238] ,\n",
      "[3.2078006497173583, 1.8651851039985423, 0.40775141554763916, 5.908929431882418, 6.775643618422825] ,\n",
      "[0.16587828927856152, 5.12093058299281, 2.2649577519793795, 6.451727904094499, 1.7436642900499144] ,\n",
      "[6.90937738102466, 3.867353463005374, 9.367299887367345, 1.3752094414599325, 3.410663510502585] ,\n"
     ]
    }
   ],
   "source": [
    "import numpy as np\n",
    "\n",
    "# Generate test data\n",
    "# Number of samples\n",
    "n_samples_test = 10\n",
    "\n",
    "# Independent variable (X)\n",
    "X_test = [np.random.uniform(0, 10, size=n_features).tolist() for obs in range(n_samples_test)]\n",
    "# Display the samples\n",
    "print(\"Test Data X:\")\n",
    "for observation in X_test:\n",
    "    print(list(observation), ',')"
   ]
  },
  {
   "cell_type": "code",
   "execution_count": 9,
   "metadata": {},
   "outputs": [
    {
     "name": "stdout",
     "output_type": "stream",
     "text": [
      "{\n",
      "    \"predictions\": [\n",
      "        96.70442611936397,\n",
      "        195.46240629143819,\n",
      "        60.35359896694882,\n",
      "        133.2899653866171,\n",
      "        97.93692276944913,\n",
      "        129.77628075846957,\n",
      "        140.6418012576391,\n",
      "        106.38742494926153,\n",
      "        88.5956000759949,\n",
      "        95.34428616752652\n",
      "    ]\n",
      "}\n"
     ]
    }
   ],
   "source": [
    "response = requests.post(url='http://localhost:8000/predict', json={\"X_test\": X_test})\n",
    "print(json.dumps(\n",
    "    response.json(),\n",
    "    sort_keys=True,\n",
    "    indent=4,\n",
    "    separators=(',', ': ')\n",
    "))"
   ]
  },
  {
   "cell_type": "code",
   "execution_count": null,
   "metadata": {},
   "outputs": [],
   "source": []
  }
 ],
 "metadata": {
  "kernelspec": {
   "display_name": ".venv",
   "language": "python",
   "name": "python3"
  },
  "language_info": {
   "codemirror_mode": {
    "name": "ipython",
    "version": 3
   },
   "file_extension": ".py",
   "mimetype": "text/x-python",
   "name": "python",
   "nbconvert_exporter": "python",
   "pygments_lexer": "ipython3",
   "version": "3.12.6"
  }
 },
 "nbformat": 4,
 "nbformat_minor": 2
}
